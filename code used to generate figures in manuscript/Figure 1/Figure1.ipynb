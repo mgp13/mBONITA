{
 "cells": [
  {
   "cell_type": "markdown",
   "metadata": {},
   "source": [
    "# Rule inference on multi-omics networks - Data processing and Figure 1"
   ]
  },
  {
   "cell_type": "code",
   "execution_count": 1,
   "metadata": {},
   "outputs": [],
   "source": [
    "import matplotlib.pyplot as plt\n",
    "import networkx as nx\n",
    "import pandas as pd\n",
    "import numpy as np\n",
    "#from upsetplot import from_contents, UpSet, plot\n",
    "import matplotlib.pyplot as plt\n",
    "import seaborn as sns\n",
    "#import gseapy as gp\n",
    "from math import ceil"
   ]
  },
  {
   "cell_type": "markdown",
   "metadata": {},
   "source": [
    "# Phosphoproteomics data analysis"
   ]
  },
  {
   "cell_type": "code",
   "execution_count": 2,
   "metadata": {},
   "outputs": [
    {
     "data": {
      "text/html": [
       "<div>\n",
       "<style scoped>\n",
       "    .dataframe tbody tr th:only-of-type {\n",
       "        vertical-align: middle;\n",
       "    }\n",
       "\n",
       "    .dataframe tbody tr th {\n",
       "        vertical-align: top;\n",
       "    }\n",
       "\n",
       "    .dataframe thead th {\n",
       "        text-align: right;\n",
       "    }\n",
       "</style>\n",
       "<table border=\"1\" class=\"dataframe\">\n",
       "  <thead>\n",
       "    <tr style=\"text-align: right;\">\n",
       "      <th></th>\n",
       "      <th>Peptide Sequence</th>\n",
       "      <th>Phospho #</th>\n",
       "      <th>Protein AC</th>\n",
       "      <th>Phosphosites</th>\n",
       "      <th>Gr1_F1: 126, Sample, 1</th>\n",
       "      <th>Gr1_F2: 126, Sample, 1</th>\n",
       "      <th>Gr1_F3: 126, Sample, 1</th>\n",
       "      <th>Gr1_F1: 127C, Sample, 2</th>\n",
       "      <th>Gr1_F2: 127C, Sample, 2</th>\n",
       "      <th>Gr1_F3: 127C, Sample, 2</th>\n",
       "      <th>...</th>\n",
       "      <th>Gr2_F3: 130C, Sample, 13</th>\n",
       "      <th>Gr2_F1: 130N, Sample, 14</th>\n",
       "      <th>Gr2_F2: 130N, Sample, 14</th>\n",
       "      <th>Gr2_F3: 130N, Sample, 14</th>\n",
       "      <th>Gr2_F1: 128N, Control, 781</th>\n",
       "      <th>Gr2_F2: 128N, Control, 781</th>\n",
       "      <th>Gr2_F3: 128N, Control, 781</th>\n",
       "      <th>Gr2_F1: 131, Control, 782</th>\n",
       "      <th>Gr2_F2: 131, Control, 782</th>\n",
       "      <th>Gr2_F3: 131, Control, 782</th>\n",
       "    </tr>\n",
       "  </thead>\n",
       "  <tbody>\n",
       "    <tr>\n",
       "      <th>0</th>\n",
       "      <td>AAAAAAAATMALAAPSSPTPESPTMLTK</td>\n",
       "      <td>1xPhospho[S/T]</td>\n",
       "      <td>Q9NQS7</td>\n",
       "      <td>S16(Phospho): 47.37; S17(Phospho): 47.37</td>\n",
       "      <td>0.0</td>\n",
       "      <td>0.0</td>\n",
       "      <td>0.0</td>\n",
       "      <td>0.0</td>\n",
       "      <td>0.0</td>\n",
       "      <td>0.0</td>\n",
       "      <td>...</td>\n",
       "      <td>235.4</td>\n",
       "      <td>189.5</td>\n",
       "      <td>131.4</td>\n",
       "      <td>218.8</td>\n",
       "      <td>193.9</td>\n",
       "      <td>122.2</td>\n",
       "      <td>244.9</td>\n",
       "      <td>176.5</td>\n",
       "      <td>97.5</td>\n",
       "      <td>198.5</td>\n",
       "    </tr>\n",
       "    <tr>\n",
       "      <th>1</th>\n",
       "      <td>AAAAAAAATMALAAPSSPTPESPTMLTK</td>\n",
       "      <td>2xPhospho[S/T]</td>\n",
       "      <td>Q9NQS7</td>\n",
       "      <td>S16(Phospho): 49.61; S17(Phospho): 49.61; T24(...</td>\n",
       "      <td>223.6</td>\n",
       "      <td>113.9</td>\n",
       "      <td>89.3</td>\n",
       "      <td>170.1</td>\n",
       "      <td>99.6</td>\n",
       "      <td>75.8</td>\n",
       "      <td>...</td>\n",
       "      <td>0.0</td>\n",
       "      <td>0.0</td>\n",
       "      <td>0.0</td>\n",
       "      <td>0.0</td>\n",
       "      <td>0.0</td>\n",
       "      <td>0.0</td>\n",
       "      <td>0.0</td>\n",
       "      <td>0.0</td>\n",
       "      <td>0.0</td>\n",
       "      <td>0.0</td>\n",
       "    </tr>\n",
       "    <tr>\n",
       "      <th>2</th>\n",
       "      <td>AAAAAAAATMALAAPSSPTPESPTMLTK</td>\n",
       "      <td>1xPhospho[S17]</td>\n",
       "      <td>Q9NQS7</td>\n",
       "      <td>S17(Phospho): 99.9</td>\n",
       "      <td>1302.6</td>\n",
       "      <td>958.3</td>\n",
       "      <td>1031.3</td>\n",
       "      <td>947.2</td>\n",
       "      <td>706.6</td>\n",
       "      <td>815.5</td>\n",
       "      <td>...</td>\n",
       "      <td>887.3</td>\n",
       "      <td>699.6</td>\n",
       "      <td>674.7</td>\n",
       "      <td>880.1</td>\n",
       "      <td>728.1</td>\n",
       "      <td>748.2</td>\n",
       "      <td>897.5</td>\n",
       "      <td>628.2</td>\n",
       "      <td>697.9</td>\n",
       "      <td>795.0</td>\n",
       "    </tr>\n",
       "    <tr>\n",
       "      <th>3</th>\n",
       "      <td>AAAAAAAATMALAAPSSPTPESPTMLTK</td>\n",
       "      <td>2xPhospho[S17;S22]</td>\n",
       "      <td>Q9NQS7</td>\n",
       "      <td>S17(Phospho): 98.27; S22(Phospho): 80.54</td>\n",
       "      <td>0.0</td>\n",
       "      <td>0.0</td>\n",
       "      <td>0.0</td>\n",
       "      <td>0.0</td>\n",
       "      <td>0.0</td>\n",
       "      <td>0.0</td>\n",
       "      <td>...</td>\n",
       "      <td>299.0</td>\n",
       "      <td>189.0</td>\n",
       "      <td>142.9</td>\n",
       "      <td>261.1</td>\n",
       "      <td>210.4</td>\n",
       "      <td>162.0</td>\n",
       "      <td>294.4</td>\n",
       "      <td>208.6</td>\n",
       "      <td>173.9</td>\n",
       "      <td>273.1</td>\n",
       "    </tr>\n",
       "    <tr>\n",
       "      <th>4</th>\n",
       "      <td>AAAAAAAATMALAAPSSPTPESPTMLTK</td>\n",
       "      <td>2xPhospho[T/S]</td>\n",
       "      <td>Q9NQS7</td>\n",
       "      <td>S17(Phospho): 99.31; T24(Phospho): 92.72</td>\n",
       "      <td>0.0</td>\n",
       "      <td>0.0</td>\n",
       "      <td>0.0</td>\n",
       "      <td>0.0</td>\n",
       "      <td>0.0</td>\n",
       "      <td>0.0</td>\n",
       "      <td>...</td>\n",
       "      <td>299.9</td>\n",
       "      <td>180.7</td>\n",
       "      <td>219.0</td>\n",
       "      <td>273.4</td>\n",
       "      <td>196.9</td>\n",
       "      <td>232.6</td>\n",
       "      <td>285.1</td>\n",
       "      <td>200.0</td>\n",
       "      <td>220.3</td>\n",
       "      <td>344.7</td>\n",
       "    </tr>\n",
       "  </tbody>\n",
       "</table>\n",
       "<p>5 rows × 52 columns</p>\n",
       "</div>"
      ],
      "text/plain": [
       "               Peptide Sequence           Phospho # Protein AC  \\\n",
       "0  AAAAAAAATMALAAPSSPTPESPTMLTK      1xPhospho[S/T]     Q9NQS7   \n",
       "1  AAAAAAAATMALAAPSSPTPESPTMLTK      2xPhospho[S/T]     Q9NQS7   \n",
       "2  AAAAAAAATMALAAPSSPTPESPTMLTK      1xPhospho[S17]     Q9NQS7   \n",
       "3  AAAAAAAATMALAAPSSPTPESPTMLTK  2xPhospho[S17;S22]     Q9NQS7   \n",
       "4  AAAAAAAATMALAAPSSPTPESPTMLTK      2xPhospho[T/S]     Q9NQS7   \n",
       "\n",
       "                                        Phosphosites  Gr1_F1: 126, Sample, 1  \\\n",
       "0           S16(Phospho): 47.37; S17(Phospho): 47.37                     0.0   \n",
       "1  S16(Phospho): 49.61; S17(Phospho): 49.61; T24(...                   223.6   \n",
       "2                                 S17(Phospho): 99.9                  1302.6   \n",
       "3           S17(Phospho): 98.27; S22(Phospho): 80.54                     0.0   \n",
       "4           S17(Phospho): 99.31; T24(Phospho): 92.72                     0.0   \n",
       "\n",
       "   Gr1_F2: 126, Sample, 1  Gr1_F3: 126, Sample, 1  Gr1_F1: 127C, Sample, 2  \\\n",
       "0                     0.0                     0.0                      0.0   \n",
       "1                   113.9                    89.3                    170.1   \n",
       "2                   958.3                  1031.3                    947.2   \n",
       "3                     0.0                     0.0                      0.0   \n",
       "4                     0.0                     0.0                      0.0   \n",
       "\n",
       "   Gr1_F2: 127C, Sample, 2  Gr1_F3: 127C, Sample, 2  ...  \\\n",
       "0                      0.0                      0.0  ...   \n",
       "1                     99.6                     75.8  ...   \n",
       "2                    706.6                    815.5  ...   \n",
       "3                      0.0                      0.0  ...   \n",
       "4                      0.0                      0.0  ...   \n",
       "\n",
       "   Gr2_F3: 130C, Sample, 13  Gr2_F1: 130N, Sample, 14  \\\n",
       "0                     235.4                     189.5   \n",
       "1                       0.0                       0.0   \n",
       "2                     887.3                     699.6   \n",
       "3                     299.0                     189.0   \n",
       "4                     299.9                     180.7   \n",
       "\n",
       "   Gr2_F2: 130N, Sample, 14  Gr2_F3: 130N, Sample, 14  \\\n",
       "0                     131.4                     218.8   \n",
       "1                       0.0                       0.0   \n",
       "2                     674.7                     880.1   \n",
       "3                     142.9                     261.1   \n",
       "4                     219.0                     273.4   \n",
       "\n",
       "   Gr2_F1: 128N, Control, 781  Gr2_F2: 128N, Control, 781  \\\n",
       "0                       193.9                       122.2   \n",
       "1                         0.0                         0.0   \n",
       "2                       728.1                       748.2   \n",
       "3                       210.4                       162.0   \n",
       "4                       196.9                       232.6   \n",
       "\n",
       "   Gr2_F3: 128N, Control, 781  Gr2_F1: 131, Control, 782  \\\n",
       "0                       244.9                      176.5   \n",
       "1                         0.0                        0.0   \n",
       "2                       897.5                      628.2   \n",
       "3                       294.4                      208.6   \n",
       "4                       285.1                      200.0   \n",
       "\n",
       "   Gr2_F2: 131, Control, 782  Gr2_F3: 131, Control, 782  \n",
       "0                       97.5                      198.5  \n",
       "1                        0.0                        0.0  \n",
       "2                      697.9                      795.0  \n",
       "3                      173.9                      273.1  \n",
       "4                      220.3                      344.7  \n",
       "\n",
       "[5 rows x 52 columns]"
      ]
     },
     "execution_count": 2,
     "metadata": {},
     "output_type": "execute_result"
    }
   ],
   "source": [
    "combined_clean = pd.read_excel(\n",
    "    'raw_data/202007Quantitaive results_Cleaned.xlsx',\n",
    "    sheet_name=\"Quan_Combined\").fillna(0)\n",
    "combined_clean.head()"
   ]
  },
  {
   "cell_type": "markdown",
   "metadata": {},
   "source": [
    "## Log2 normalize data"
   ]
  },
  {
   "cell_type": "code",
   "execution_count": 3,
   "metadata": {},
   "outputs": [
    {
     "data": {
      "text/html": [
       "<div>\n",
       "<style scoped>\n",
       "    .dataframe tbody tr th:only-of-type {\n",
       "        vertical-align: middle;\n",
       "    }\n",
       "\n",
       "    .dataframe tbody tr th {\n",
       "        vertical-align: top;\n",
       "    }\n",
       "\n",
       "    .dataframe thead th {\n",
       "        text-align: right;\n",
       "    }\n",
       "</style>\n",
       "<table border=\"1\" class=\"dataframe\">\n",
       "  <thead>\n",
       "    <tr style=\"text-align: right;\">\n",
       "      <th></th>\n",
       "      <th>Gr1_F1: 126, Sample, 1</th>\n",
       "      <th>Gr1_F2: 126, Sample, 1</th>\n",
       "      <th>Gr1_F3: 126, Sample, 1</th>\n",
       "      <th>Gr1_F1: 127C, Sample, 2</th>\n",
       "      <th>Gr1_F2: 127C, Sample, 2</th>\n",
       "      <th>Gr1_F3: 127C, Sample, 2</th>\n",
       "      <th>Gr1_F1: 127N, Sample, 3</th>\n",
       "      <th>Gr1_F2: 127N, Sample, 3</th>\n",
       "      <th>Gr1_F3: 127N, Sample, 3</th>\n",
       "      <th>Gr1_F1: 128C, Sample, 4</th>\n",
       "      <th>...</th>\n",
       "      <th>Gr2_F2: 130C, Sample, 13</th>\n",
       "      <th>Gr2_F3: 130C, Sample, 13</th>\n",
       "      <th>Gr2_F1: 130N, Sample, 14</th>\n",
       "      <th>Gr2_F2: 130N, Sample, 14</th>\n",
       "      <th>Gr2_F3: 130N, Sample, 14</th>\n",
       "      <th>Gr2_F1: 128N, Control, 781</th>\n",
       "      <th>Gr2_F2: 128N, Control, 781</th>\n",
       "      <th>Gr2_F3: 128N, Control, 781</th>\n",
       "      <th>Gr2_F1: 131, Control, 782</th>\n",
       "      <th>Gr2_F2: 131, Control, 782</th>\n",
       "    </tr>\n",
       "  </thead>\n",
       "  <tbody>\n",
       "    <tr>\n",
       "      <th>0</th>\n",
       "      <td>0.000000</td>\n",
       "      <td>0.000000</td>\n",
       "      <td>0.000000</td>\n",
       "      <td>0.000000</td>\n",
       "      <td>0.000000</td>\n",
       "      <td>0.000000</td>\n",
       "      <td>0.000000</td>\n",
       "      <td>0.000000</td>\n",
       "      <td>0.000000</td>\n",
       "      <td>0.000000</td>\n",
       "      <td>...</td>\n",
       "      <td>6.765535</td>\n",
       "      <td>7.885086</td>\n",
       "      <td>7.573647</td>\n",
       "      <td>7.048759</td>\n",
       "      <td>7.780048</td>\n",
       "      <td>7.606590</td>\n",
       "      <td>6.944858</td>\n",
       "      <td>7.941928</td>\n",
       "      <td>7.471675</td>\n",
       "      <td>6.622052</td>\n",
       "    </tr>\n",
       "    <tr>\n",
       "      <th>1</th>\n",
       "      <td>7.811214</td>\n",
       "      <td>6.844235</td>\n",
       "      <td>6.496654</td>\n",
       "      <td>7.418696</td>\n",
       "      <td>6.652486</td>\n",
       "      <td>6.263034</td>\n",
       "      <td>7.638074</td>\n",
       "      <td>6.855491</td>\n",
       "      <td>6.321928</td>\n",
       "      <td>7.108524</td>\n",
       "      <td>...</td>\n",
       "      <td>0.000000</td>\n",
       "      <td>0.000000</td>\n",
       "      <td>0.000000</td>\n",
       "      <td>0.000000</td>\n",
       "      <td>0.000000</td>\n",
       "      <td>0.000000</td>\n",
       "      <td>0.000000</td>\n",
       "      <td>0.000000</td>\n",
       "      <td>0.000000</td>\n",
       "      <td>0.000000</td>\n",
       "    </tr>\n",
       "    <tr>\n",
       "      <th>2</th>\n",
       "      <td>10.348286</td>\n",
       "      <td>9.905838</td>\n",
       "      <td>10.011647</td>\n",
       "      <td>9.889048</td>\n",
       "      <td>9.466790</td>\n",
       "      <td>9.673309</td>\n",
       "      <td>9.924219</td>\n",
       "      <td>9.487840</td>\n",
       "      <td>9.766198</td>\n",
       "      <td>9.509577</td>\n",
       "      <td>...</td>\n",
       "      <td>9.566244</td>\n",
       "      <td>9.794903</td>\n",
       "      <td>9.452447</td>\n",
       "      <td>9.400239</td>\n",
       "      <td>9.783162</td>\n",
       "      <td>9.509973</td>\n",
       "      <td>9.549207</td>\n",
       "      <td>9.811375</td>\n",
       "      <td>9.297375</td>\n",
       "      <td>9.448942</td>\n",
       "    </tr>\n",
       "    <tr>\n",
       "      <th>3</th>\n",
       "      <td>0.000000</td>\n",
       "      <td>0.000000</td>\n",
       "      <td>0.000000</td>\n",
       "      <td>0.000000</td>\n",
       "      <td>0.000000</td>\n",
       "      <td>0.000000</td>\n",
       "      <td>0.000000</td>\n",
       "      <td>0.000000</td>\n",
       "      <td>0.000000</td>\n",
       "      <td>0.000000</td>\n",
       "      <td>...</td>\n",
       "      <td>7.358431</td>\n",
       "      <td>8.228819</td>\n",
       "      <td>7.569856</td>\n",
       "      <td>7.168923</td>\n",
       "      <td>8.033974</td>\n",
       "      <td>7.723832</td>\n",
       "      <td>7.348728</td>\n",
       "      <td>8.206526</td>\n",
       "      <td>7.711495</td>\n",
       "      <td>7.450386</td>\n",
       "    </tr>\n",
       "  </tbody>\n",
       "</table>\n",
       "<p>4 rows × 47 columns</p>\n",
       "</div>"
      ],
      "text/plain": [
       "   Gr1_F1: 126, Sample, 1  Gr1_F2: 126, Sample, 1  Gr1_F3: 126, Sample, 1  \\\n",
       "0                0.000000                0.000000                0.000000   \n",
       "1                7.811214                6.844235                6.496654   \n",
       "2               10.348286                9.905838               10.011647   \n",
       "3                0.000000                0.000000                0.000000   \n",
       "\n",
       "   Gr1_F1: 127C, Sample, 2  Gr1_F2: 127C, Sample, 2  Gr1_F3: 127C, Sample, 2  \\\n",
       "0                 0.000000                 0.000000                 0.000000   \n",
       "1                 7.418696                 6.652486                 6.263034   \n",
       "2                 9.889048                 9.466790                 9.673309   \n",
       "3                 0.000000                 0.000000                 0.000000   \n",
       "\n",
       "   Gr1_F1: 127N, Sample, 3  Gr1_F2: 127N, Sample, 3  Gr1_F3: 127N, Sample, 3  \\\n",
       "0                 0.000000                 0.000000                 0.000000   \n",
       "1                 7.638074                 6.855491                 6.321928   \n",
       "2                 9.924219                 9.487840                 9.766198   \n",
       "3                 0.000000                 0.000000                 0.000000   \n",
       "\n",
       "   Gr1_F1: 128C, Sample, 4  ...  Gr2_F2: 130C, Sample, 13  \\\n",
       "0                 0.000000  ...                  6.765535   \n",
       "1                 7.108524  ...                  0.000000   \n",
       "2                 9.509577  ...                  9.566244   \n",
       "3                 0.000000  ...                  7.358431   \n",
       "\n",
       "   Gr2_F3: 130C, Sample, 13  Gr2_F1: 130N, Sample, 14  \\\n",
       "0                  7.885086                  7.573647   \n",
       "1                  0.000000                  0.000000   \n",
       "2                  9.794903                  9.452447   \n",
       "3                  8.228819                  7.569856   \n",
       "\n",
       "   Gr2_F2: 130N, Sample, 14  Gr2_F3: 130N, Sample, 14  \\\n",
       "0                  7.048759                  7.780048   \n",
       "1                  0.000000                  0.000000   \n",
       "2                  9.400239                  9.783162   \n",
       "3                  7.168923                  8.033974   \n",
       "\n",
       "   Gr2_F1: 128N, Control, 781  Gr2_F2: 128N, Control, 781  \\\n",
       "0                    7.606590                    6.944858   \n",
       "1                    0.000000                    0.000000   \n",
       "2                    9.509973                    9.549207   \n",
       "3                    7.723832                    7.348728   \n",
       "\n",
       "   Gr2_F3: 128N, Control, 781  Gr2_F1: 131, Control, 782  \\\n",
       "0                    7.941928                   7.471675   \n",
       "1                    0.000000                   0.000000   \n",
       "2                    9.811375                   9.297375   \n",
       "3                    8.206526                   7.711495   \n",
       "\n",
       "   Gr2_F2: 131, Control, 782  \n",
       "0                   6.622052  \n",
       "1                   0.000000  \n",
       "2                   9.448942  \n",
       "3                   7.450386  \n",
       "\n",
       "[4 rows x 47 columns]"
      ]
     },
     "execution_count": 3,
     "metadata": {},
     "output_type": "execute_result"
    }
   ],
   "source": [
    "combined_clean.iloc[:, 4:51] = combined_clean.iloc[:, 4:51].apply(\n",
    "    lambda x: np.log2(x + 1), raw=False)\n",
    "combined_clean.iloc[0:4, 4:51]"
   ]
  },
  {
   "cell_type": "markdown",
   "metadata": {},
   "source": [
    "## Make conditions matrix"
   ]
  },
  {
   "cell_type": "code",
   "execution_count": 4,
   "metadata": {},
   "outputs": [
    {
     "data": {
      "text/html": [
       "<div>\n",
       "<style scoped>\n",
       "    .dataframe tbody tr th:only-of-type {\n",
       "        vertical-align: middle;\n",
       "    }\n",
       "\n",
       "    .dataframe tbody tr th {\n",
       "        vertical-align: top;\n",
       "    }\n",
       "\n",
       "    .dataframe thead th {\n",
       "        text-align: right;\n",
       "    }\n",
       "</style>\n",
       "<table border=\"1\" class=\"dataframe\">\n",
       "  <thead>\n",
       "    <tr style=\"text-align: right;\">\n",
       "      <th></th>\n",
       "      <th>TMT.group</th>\n",
       "      <th>TMT.Channel</th>\n",
       "      <th>Sample.Number</th>\n",
       "      <th>O2</th>\n",
       "      <th>CyA</th>\n",
       "      <th>Colname - raw dataset</th>\n",
       "      <th>Normalized - raw dataset</th>\n",
       "      <th>CXCL12_time</th>\n",
       "      <th>CXCL12</th>\n",
       "      <th>Column labels - cleaned dataset</th>\n",
       "      <th>Group</th>\n",
       "      <th>CyA_binary</th>\n",
       "      <th>CXCL12_binary</th>\n",
       "      <th>CyA0CXCL120_lowO2</th>\n",
       "      <th>CyA1CXCL121_lowO2</th>\n",
       "      <th>CyA0CXCL121</th>\n",
       "      <th>CyA1CXCL120</th>\n",
       "    </tr>\n",
       "  </thead>\n",
       "  <tbody>\n",
       "    <tr>\n",
       "      <th>0</th>\n",
       "      <td>1</td>\n",
       "      <td>126</td>\n",
       "      <td>1</td>\n",
       "      <td>Low</td>\n",
       "      <td>No</td>\n",
       "      <td>Abundance..F1..126..Sample..1</td>\n",
       "      <td>Abundances..Normalized...F1..126..Sample..1</td>\n",
       "      <td>0</td>\n",
       "      <td>No</td>\n",
       "      <td>Gr1_F1: 126, Sample, 1</td>\n",
       "      <td>1</td>\n",
       "      <td>0</td>\n",
       "      <td>0</td>\n",
       "      <td>1</td>\n",
       "      <td>0</td>\n",
       "      <td>0</td>\n",
       "      <td>0</td>\n",
       "    </tr>\n",
       "    <tr>\n",
       "      <th>1</th>\n",
       "      <td>1</td>\n",
       "      <td>126</td>\n",
       "      <td>1</td>\n",
       "      <td>Low</td>\n",
       "      <td>No</td>\n",
       "      <td>Abundance..F2..126..Sample..1</td>\n",
       "      <td>Abundances..Normalized...F2..126..Sample..1</td>\n",
       "      <td>0</td>\n",
       "      <td>No</td>\n",
       "      <td>Gr1_F2: 126, Sample, 1</td>\n",
       "      <td>1</td>\n",
       "      <td>0</td>\n",
       "      <td>0</td>\n",
       "      <td>1</td>\n",
       "      <td>0</td>\n",
       "      <td>0</td>\n",
       "      <td>0</td>\n",
       "    </tr>\n",
       "    <tr>\n",
       "      <th>2</th>\n",
       "      <td>1</td>\n",
       "      <td>126</td>\n",
       "      <td>1</td>\n",
       "      <td>Low</td>\n",
       "      <td>No</td>\n",
       "      <td>Abundance..F3..126..Sample..1</td>\n",
       "      <td>Abundances..Normalized...F3..126..Sample..1</td>\n",
       "      <td>0</td>\n",
       "      <td>No</td>\n",
       "      <td>Gr1_F3: 126, Sample, 1</td>\n",
       "      <td>1</td>\n",
       "      <td>0</td>\n",
       "      <td>0</td>\n",
       "      <td>1</td>\n",
       "      <td>0</td>\n",
       "      <td>0</td>\n",
       "      <td>0</td>\n",
       "    </tr>\n",
       "    <tr>\n",
       "      <th>3</th>\n",
       "      <td>1</td>\n",
       "      <td>127C</td>\n",
       "      <td>2</td>\n",
       "      <td>Low</td>\n",
       "      <td>No</td>\n",
       "      <td>Abundance..F1..127C..Sample..2</td>\n",
       "      <td>Abundances..Normalized...F1..127C..Sample..2</td>\n",
       "      <td>15</td>\n",
       "      <td>Yes</td>\n",
       "      <td>Gr1_F1: 127C, Sample, 2</td>\n",
       "      <td>1</td>\n",
       "      <td>0</td>\n",
       "      <td>1</td>\n",
       "      <td>0</td>\n",
       "      <td>0</td>\n",
       "      <td>1</td>\n",
       "      <td>0</td>\n",
       "    </tr>\n",
       "    <tr>\n",
       "      <th>4</th>\n",
       "      <td>1</td>\n",
       "      <td>127C</td>\n",
       "      <td>2</td>\n",
       "      <td>Low</td>\n",
       "      <td>No</td>\n",
       "      <td>Abundance..F2..127C..Sample..2</td>\n",
       "      <td>Abundances..Normalized...F2..127C..Sample..2</td>\n",
       "      <td>15</td>\n",
       "      <td>Yes</td>\n",
       "      <td>Gr1_F2: 127C, Sample, 2</td>\n",
       "      <td>1</td>\n",
       "      <td>0</td>\n",
       "      <td>1</td>\n",
       "      <td>0</td>\n",
       "      <td>0</td>\n",
       "      <td>1</td>\n",
       "      <td>0</td>\n",
       "    </tr>\n",
       "  </tbody>\n",
       "</table>\n",
       "</div>"
      ],
      "text/plain": [
       "   TMT.group TMT.Channel  Sample.Number   O2 CyA  \\\n",
       "0          1         126              1  Low  No   \n",
       "1          1         126              1  Low  No   \n",
       "2          1         126              1  Low  No   \n",
       "3          1        127C              2  Low  No   \n",
       "4          1        127C              2  Low  No   \n",
       "\n",
       "            Colname - raw dataset  \\\n",
       "0   Abundance..F1..126..Sample..1   \n",
       "1   Abundance..F2..126..Sample..1   \n",
       "2   Abundance..F3..126..Sample..1   \n",
       "3  Abundance..F1..127C..Sample..2   \n",
       "4  Abundance..F2..127C..Sample..2   \n",
       "\n",
       "                       Normalized - raw dataset  CXCL12_time CXCL12  \\\n",
       "0   Abundances..Normalized...F1..126..Sample..1            0     No   \n",
       "1   Abundances..Normalized...F2..126..Sample..1            0     No   \n",
       "2   Abundances..Normalized...F3..126..Sample..1            0     No   \n",
       "3  Abundances..Normalized...F1..127C..Sample..2           15    Yes   \n",
       "4  Abundances..Normalized...F2..127C..Sample..2           15    Yes   \n",
       "\n",
       "  Column labels - cleaned dataset  Group  CyA_binary  CXCL12_binary  \\\n",
       "0          Gr1_F1: 126, Sample, 1      1           0              0   \n",
       "1          Gr1_F2: 126, Sample, 1      1           0              0   \n",
       "2          Gr1_F3: 126, Sample, 1      1           0              0   \n",
       "3         Gr1_F1: 127C, Sample, 2      1           0              1   \n",
       "4         Gr1_F2: 127C, Sample, 2      1           0              1   \n",
       "\n",
       "   CyA0CXCL120_lowO2  CyA1CXCL121_lowO2  CyA0CXCL121  CyA1CXCL120  \n",
       "0                  1                  0            0            0  \n",
       "1                  1                  0            0            0  \n",
       "2                  1                  0            0            0  \n",
       "3                  0                  0            1            0  \n",
       "4                  0                  0            1            0  "
      ]
     },
     "execution_count": 4,
     "metadata": {},
     "output_type": "execute_result"
    }
   ],
   "source": [
    "conditions = pd.read_excel('raw_data/202007Quantitaive results_Cleaned.xlsx',\n",
    "                           sheet_name=\"condition_matrix\").fillna(0)\n",
    "conditions.head()"
   ]
  },
  {
   "cell_type": "markdown",
   "metadata": {},
   "source": [
    "## Add gene names to expression matrix"
   ]
  },
  {
   "cell_type": "code",
   "execution_count": 5,
   "metadata": {},
   "outputs": [],
   "source": [
    "gene_mapping = pd.read_excel('raw_data/202007Quantitaive results_Cleaned.xlsx',\n",
    "                             sheet_name=\"gene mapping\").fillna(0)\n",
    "gene_mapping.head()\n",
    "combined_clean.loc[:, \"Gene\"] = [\n",
    "    gene_mapping.To[gene_mapping.From == combined_clean.loc[\n",
    "        i, \"Protein AC\"]].tolist()[0] if\n",
    "    len(gene_mapping.To[gene_mapping.From == combined_clean.loc[i,\n",
    "                                                                \"Protein AC\"]])\n",
    "    > 0 else combined_clean.loc[i, \"Protein AC\"]\n",
    "    for i in range(len(combined_clean))\n",
    "]"
   ]
  },
  {
   "cell_type": "markdown",
   "metadata": {},
   "source": [
    "## For rows corresponding to the same protein/gene - Retain only those rows with the highest abundance."
   ]
  },
  {
   "cell_type": "code",
   "execution_count": 6,
   "metadata": {},
   "outputs": [
    {
     "data": {
      "text/plain": [
       "0         7.689072\n",
       "1         3.381080\n",
       "2        25.904711\n",
       "3         9.377264\n",
       "4        10.961754\n",
       "           ...    \n",
       "11647     3.167068\n",
       "11648     4.143680\n",
       "11649    11.274444\n",
       "11650    40.143147\n",
       "11651     7.323408\n",
       "Length: 11652, dtype: float64"
      ]
     },
     "execution_count": 6,
     "metadata": {},
     "output_type": "execute_result"
    }
   ],
   "source": [
    "combined_clean.select_dtypes(include=np.number).mean(axis=1)"
   ]
  },
  {
   "cell_type": "code",
   "execution_count": 7,
   "metadata": {},
   "outputs": [
    {
     "name": "stdout",
     "output_type": "stream",
     "text": [
      "(3032, 53)\n"
     ]
    }
   ],
   "source": [
    "combined_clean.loc[:, \"MeanAbundance\"] = combined_clean.select_dtypes(\n",
    "    include=np.number).mean(axis=1)\n",
    "combined_clean.loc[:, \"RowSums\"] = combined_clean.select_dtypes(\n",
    "    include=np.number).sum(axis=1)\n",
    "#combined_clean = combined_clean.set_index(\"Gene\", drop=False)\n",
    "combined_clean = combined_clean.sort_values(\"MeanAbundance\", ascending=False)\n",
    "combined_clean = combined_clean.groupby(\"Gene\", sort=False)\n",
    "combined_clean = combined_clean.first()\n",
    "combined_clean = combined_clean.reset_index()\n",
    "combined_clean = combined_clean.drop(columns=[\"MeanAbundance\", \"RowSums\"])\n",
    "print(combined_clean.shape)\n"
   ]
  },
  {
   "cell_type": "markdown",
   "metadata": {},
   "source": [
    "# Process proteomics dataset"
   ]
  },
  {
   "cell_type": "code",
   "execution_count": 8,
   "metadata": {},
   "outputs": [],
   "source": [
    "proteomics = pd.read_csv(\"raw_data/ramos_genes.csv\").fillna(0)\n",
    "proteomics.loc[:, [\n",
    "    \"norm_19-A\", \"norm_19-B\", \"norm_19-C\", \"norm_1-A\", \"norm_1-B\", \"norm_1-C\",\n",
    "    \"norm_1-1ug-A\", \"norm_1-1ug-B\", \"norm_1-1ug-C\"\n",
    "]] = proteomics.loc[:, [\n",
    "    \"norm_19-A\", \"norm_19-B\", \"norm_19-C\", \"norm_1-A\", \"norm_1-B\", \"norm_1-C\",\n",
    "    \"norm_1-1ug-A\", \"norm_1-1ug-B\", \"norm_1-1ug-C\"\n",
    "]].apply(lambda x: np.log2(x + 1), raw=False)\n",
    "proteomics.loc[:, [\n",
    "    \"norm_19-A\", \"norm_19-B\", \"norm_19-C\", \"norm_1-A\", \"norm_1-B\", \"norm_1-C\",\n",
    "    \"norm_1-1ug-A\", \"norm_1-1ug-B\", \"norm_1-1ug-C\"\n",
    "]] = proteomics.loc[:, [\n",
    "    \"norm_19-A\", \"norm_19-B\", \"norm_19-C\", \"norm_1-A\", \"norm_1-B\", \"norm_1-C\",\n",
    "    \"norm_1-1ug-A\", \"norm_1-1ug-B\", \"norm_1-1ug-C\"\n",
    "]].loc[~(proteomics.loc[:, [\n",
    "    \"norm_19-A\", \"norm_19-B\", \"norm_19-C\", \"norm_1-A\", \"norm_1-B\", \"norm_1-C\",\n",
    "    \"norm_1-1ug-A\", \"norm_1-1ug-B\", \"norm_1-1ug-C\"\n",
    "]] == 0).all(axis=1)]\n",
    "proteomics = proteomics.fillna(0)\n",
    "prot_common_conditions = [\n",
    "    \"Gene\", \"norm_19-A\", \"norm_19-B\", \"norm_19-C\", \"norm_1-A\", \"norm_1-B\",\n",
    "    \"norm_1-C\", \"norm_1-1ug-A\", \"norm_1-1ug-B\", \"norm_1-1ug-C\"\n",
    "]"
   ]
  },
  {
   "cell_type": "markdown",
   "metadata": {},
   "source": [
    "# Process transcriptomics dataset"
   ]
  },
  {
   "cell_type": "code",
   "execution_count": 9,
   "metadata": {},
   "outputs": [],
   "source": [
    "transcriptomics = pd.read_csv(\"raw_data/unfiltered_rpm_counts.txt\",\n",
    "                              sep=\"\\t\").fillna(0)\n",
    "transcriptomics.loc[:, [\n",
    "    \"Ramos_19O2_NoCyclo_1\", \"Ramos_19O2_NoCyclo_2\", \"Ramos_19O2_NoCyclo_3\",\n",
    "    \"Ramos_19O2_PlusCyclo_1\", \"Ramos_19O2_PlusCyclo_2\",\n",
    "    \"Ramos_19O2_PlusCyclo_3\", \"Ramos_1O2_NoCyclo_1\", \"Ramos_1O2_NoCyclo_2\",\n",
    "    \"Ramos_1O2_NoCyclo_3\", \"Ramos_1O2_PlusCyclo_1\", \"Ramos_1O2_PlusCyclo_2\",\n",
    "    \"Ramos_1O2_PlusCyclo_3\"\n",
    "]] = transcriptomics.loc[:, [\n",
    "    \"Ramos_19O2_NoCyclo_1\", \"Ramos_19O2_NoCyclo_2\", \"Ramos_19O2_NoCyclo_3\",\n",
    "    \"Ramos_19O2_PlusCyclo_1\", \"Ramos_19O2_PlusCyclo_2\",\n",
    "    \"Ramos_19O2_PlusCyclo_3\", \"Ramos_1O2_NoCyclo_1\", \"Ramos_1O2_NoCyclo_2\",\n",
    "    \"Ramos_1O2_NoCyclo_3\", \"Ramos_1O2_PlusCyclo_1\", \"Ramos_1O2_PlusCyclo_2\",\n",
    "    \"Ramos_1O2_PlusCyclo_3\"\n",
    "]].apply(lambda x: np.log2(x + 1), raw=False)\n",
    "transcriptomics.loc[:, [\n",
    "    \"Ramos_19O2_NoCyclo_1\", \"Ramos_19O2_NoCyclo_2\", \"Ramos_19O2_NoCyclo_3\",\n",
    "    \"Ramos_19O2_PlusCyclo_1\", \"Ramos_19O2_PlusCyclo_2\",\n",
    "    \"Ramos_19O2_PlusCyclo_3\", \"Ramos_1O2_NoCyclo_1\", \"Ramos_1O2_NoCyclo_2\",\n",
    "    \"Ramos_1O2_NoCyclo_3\", \"Ramos_1O2_PlusCyclo_1\", \"Ramos_1O2_PlusCyclo_2\",\n",
    "    \"Ramos_1O2_PlusCyclo_3\"\n",
    "]] = transcriptomics.loc[:, [\n",
    "    \"Ramos_19O2_NoCyclo_1\", \"Ramos_19O2_NoCyclo_2\", \"Ramos_19O2_NoCyclo_3\",\n",
    "    \"Ramos_19O2_PlusCyclo_1\", \"Ramos_19O2_PlusCyclo_2\",\n",
    "    \"Ramos_19O2_PlusCyclo_3\", \"Ramos_1O2_NoCyclo_1\", \"Ramos_1O2_NoCyclo_2\",\n",
    "    \"Ramos_1O2_NoCyclo_3\", \"Ramos_1O2_PlusCyclo_1\", \"Ramos_1O2_PlusCyclo_2\",\n",
    "    \"Ramos_1O2_PlusCyclo_3\"\n",
    "]].loc[~(transcriptomics.loc[:, [\n",
    "    \"Ramos_19O2_NoCyclo_1\", \"Ramos_19O2_NoCyclo_2\", \"Ramos_19O2_NoCyclo_3\",\n",
    "    \"Ramos_19O2_PlusCyclo_1\", \"Ramos_19O2_PlusCyclo_2\",\n",
    "    \"Ramos_19O2_PlusCyclo_3\", \"Ramos_1O2_NoCyclo_1\", \"Ramos_1O2_NoCyclo_2\",\n",
    "    \"Ramos_1O2_NoCyclo_3\", \"Ramos_1O2_PlusCyclo_1\", \"Ramos_1O2_PlusCyclo_2\",\n",
    "    \"Ramos_1O2_PlusCyclo_3\"\n",
    "]] == 0).all(axis=1)]\n",
    "transcriptomics = transcriptomics.fillna(0)"
   ]
  },
  {
   "cell_type": "markdown",
   "metadata": {},
   "source": [
    "# Find common genes between all three datasets - all conditions, all measured genes included"
   ]
  },
  {
   "cell_type": "code",
   "execution_count": 10,
   "metadata": {},
   "outputs": [
    {
     "data": {
      "text/html": [
       "<div>\n",
       "<style scoped>\n",
       "    .dataframe tbody tr th:only-of-type {\n",
       "        vertical-align: middle;\n",
       "    }\n",
       "\n",
       "    .dataframe tbody tr th {\n",
       "        vertical-align: top;\n",
       "    }\n",
       "\n",
       "    .dataframe thead th {\n",
       "        text-align: right;\n",
       "    }\n",
       "</style>\n",
       "<table border=\"1\" class=\"dataframe\">\n",
       "  <thead>\n",
       "    <tr style=\"text-align: right;\">\n",
       "      <th></th>\n",
       "      <th></th>\n",
       "      <th></th>\n",
       "      <th>id</th>\n",
       "    </tr>\n",
       "    <tr>\n",
       "      <th>Proteomics</th>\n",
       "      <th>Transcriptomics</th>\n",
       "      <th>Phosphoproteomics</th>\n",
       "      <th></th>\n",
       "    </tr>\n",
       "  </thead>\n",
       "  <tbody>\n",
       "    <tr>\n",
       "      <th rowspan=\"5\" valign=\"top\">True</th>\n",
       "      <th rowspan=\"5\" valign=\"top\">True</th>\n",
       "      <th>True</th>\n",
       "      <td>0</td>\n",
       "    </tr>\n",
       "    <tr>\n",
       "      <th>True</th>\n",
       "      <td>1</td>\n",
       "    </tr>\n",
       "    <tr>\n",
       "      <th>True</th>\n",
       "      <td>2</td>\n",
       "    </tr>\n",
       "    <tr>\n",
       "      <th>True</th>\n",
       "      <td>3</td>\n",
       "    </tr>\n",
       "    <tr>\n",
       "      <th>True</th>\n",
       "      <td>4</td>\n",
       "    </tr>\n",
       "    <tr>\n",
       "      <th>...</th>\n",
       "      <th>...</th>\n",
       "      <th>...</th>\n",
       "      <td>...</td>\n",
       "    </tr>\n",
       "    <tr>\n",
       "      <th rowspan=\"5\" valign=\"top\">False</th>\n",
       "      <th rowspan=\"5\" valign=\"top\">True</th>\n",
       "      <th>False</th>\n",
       "      <td>56865</td>\n",
       "    </tr>\n",
       "    <tr>\n",
       "      <th>False</th>\n",
       "      <td>56866</td>\n",
       "    </tr>\n",
       "    <tr>\n",
       "      <th>False</th>\n",
       "      <td>56867</td>\n",
       "    </tr>\n",
       "    <tr>\n",
       "      <th>False</th>\n",
       "      <td>56868</td>\n",
       "    </tr>\n",
       "    <tr>\n",
       "      <th>False</th>\n",
       "      <td>56869</td>\n",
       "    </tr>\n",
       "  </tbody>\n",
       "</table>\n",
       "<p>56870 rows × 1 columns</p>\n",
       "</div>"
      ],
      "text/plain": [
       "                                                 id\n",
       "Proteomics Transcriptomics Phosphoproteomics       \n",
       "True       True            True                   0\n",
       "                           True                   1\n",
       "                           True                   2\n",
       "                           True                   3\n",
       "                           True                   4\n",
       "...                                             ...\n",
       "False      True            False              56865\n",
       "                           False              56866\n",
       "                           False              56867\n",
       "                           False              56868\n",
       "                           False              56869\n",
       "\n",
       "[56870 rows x 1 columns]"
      ]
     },
     "execution_count": 10,
     "metadata": {},
     "output_type": "execute_result"
    }
   ],
   "source": [
    "from upsetplot import from_contents, plot\n",
    "commonGenes = from_contents({\n",
    "    'Proteomics': set(proteomics.index),\n",
    "    'Transcriptomics': set(transcriptomics.index),\n",
    "    'Phosphoproteomics': set(combined_clean.index)\n",
    "})\n",
    "commonGenes"
   ]
  },
  {
   "cell_type": "code",
   "execution_count": 11,
   "metadata": {},
   "outputs": [
    {
     "data": {
      "text/plain": [
       "<Figure size 144x360 with 0 Axes>"
      ]
     },
     "metadata": {},
     "output_type": "display_data"
    },
    {
     "data": {
      "image/png": "[encoded data removed]",
      "text/plain": [
       "<Figure size 320x288 with 4 Axes>"
      ]
     },
     "metadata": {
      "needs_background": "light"
     },
     "output_type": "display_data"
    }
   ],
   "source": [
    "with plt.style.context('tableau-colorblind10'):\n",
    "    plt.figure(figsize=(2, 5))\n",
    "    plot(commonGenes,\n",
    "         show_counts=True,\n",
    "         min_subset_size=1,\n",
    "         facecolor=\"midnightblue\",\n",
    "         orientation='horizontal')\n",
    "    plt.savefig(\"figure1a_unfiltered.pdf\")\n",
    "    plt.savefig(\"figure1a_unfiltered.png\", dpi=600)"
   ]
  },
  {
   "cell_type": "markdown",
   "metadata": {},
   "source": [
    "# Make datasets that just have the common genes and common conditions/samples"
   ]
  },
  {
   "cell_type": "markdown",
   "metadata": {},
   "source": [
    "## Common conditions"
   ]
  },
  {
   "cell_type": "markdown",
   "metadata": {},
   "source": [
    "### Phosphoproteomics"
   ]
  },
  {
   "cell_type": "code",
   "execution_count": 12,
   "metadata": {},
   "outputs": [
    {
     "name": "stdout",
     "output_type": "stream",
     "text": [
      "['Gene', 'Gr1_F1: 126, Sample, 1', 'Gr1_F2: 126, Sample, 1', 'Gr1_F3: 126, Sample, 1', 'Gr1_F1: 128C, Sample, 4', 'Gr1_F2: 128C, Sample, 4', 'Gr1_F3: 128C, Sample, 4', 'Gr2_F1: 128N, Control, 781', 'Gr2_F2: 128N, Control, 781', 'Gr2_F3: 128N, Control, 781']\n"
     ]
    }
   ],
   "source": [
    "group1 = conditions['TMT.group'] == 1\n",
    "lowO2 = conditions.O2 == \"Low\"\n",
    "noCXCL12 = conditions.CXCL12 == \"No\"\n",
    "group2 = conditions['TMT.group'] == 2\n",
    "highO2 = conditions.O2 == \"High\"\n",
    "noCyA = conditions.CyA == \"No\"\n",
    "phosph_common_conditions = conditions.loc[\n",
    "    (group2 & highO2 & noCXCL12 & noCyA) | (group1 & lowO2 & noCXCL12),\n",
    "    'Column labels - cleaned dataset'].tolist()[\n",
    "        0:9]  #ignore last three samples - repeat\n",
    "phosph_common_conditions.insert(0, \"Gene\")\n",
    "print(phosph_common_conditions)"
   ]
  },
  {
   "cell_type": "markdown",
   "metadata": {},
   "source": [
    "### Proteomics"
   ]
  },
  {
   "cell_type": "code",
   "execution_count": 13,
   "metadata": {},
   "outputs": [],
   "source": [
    "prot_common_conditions = [\n",
    "    \"Gene\", \"norm_19-A\", \"norm_19-B\", \"norm_19-C\", \"norm_1-A\", \"norm_1-B\",\n",
    "    \"norm_1-C\", \"norm_1-1ug-A\", \"norm_1-1ug-B\", \"norm_1-1ug-C\"\n",
    "]"
   ]
  },
  {
   "cell_type": "markdown",
   "metadata": {},
   "source": [
    "### Transcriptomics"
   ]
  },
  {
   "cell_type": "code",
   "execution_count": 14,
   "metadata": {},
   "outputs": [],
   "source": [
    "transcript_common_conditions = [\n",
    "    'Gene', \"Ramos_19O2_NoCyclo_1\", \"Ramos_19O2_NoCyclo_2\",\n",
    "    \"Ramos_19O2_NoCyclo_3\", \"Ramos_1O2_NoCyclo_1\", \"Ramos_1O2_NoCyclo_2\",\n",
    "    \"Ramos_1O2_NoCyclo_3\", \"Ramos_1O2_PlusCyclo_1\", \"Ramos_1O2_PlusCyclo_2\",\n",
    "    \"Ramos_1O2_PlusCyclo_3\"\n",
    "]"
   ]
  },
  {
   "cell_type": "markdown",
   "metadata": {},
   "source": [
    "## Create datasets"
   ]
  },
  {
   "cell_type": "code",
   "execution_count": 15,
   "metadata": {},
   "outputs": [],
   "source": [
    "# transcriptomics\n",
    "transcript_common = transcriptomics[set(\n",
    "    transcript_common_conditions).intersection(set(transcriptomics.columns))]\n",
    "transcript_common.set_index(\"Gene\", inplace=True)\n",
    "#transcript_common.sort_index(inplace=True)\n",
    "transcript_common = transcript_common[transcript_common.median(axis=1) > 0]\n",
    "\n",
    "# phosphoproteomics\n",
    "phospho_common = combined_clean[set(phosph_common_conditions).intersection(\n",
    "    set(combined_clean))]\n",
    "phospho_common.set_index(\"Gene\", inplace=True)\n",
    "#phospho_common.sort_index(inplace=True)\n",
    "phospho_common = phospho_common[phospho_common.median(axis=1) > 0]\n",
    "\n",
    "# proteomics\n",
    "prot_common = proteomics[set(prot_common_conditions).intersection(\n",
    "    set(proteomics.columns))]\n",
    "prot_common.set_index(\"Gene\", inplace=True)\n",
    "#prot_common.sort_index(inplace=True)\n",
    "prot_common = prot_common[prot_common.median(axis=1) > 0]"
   ]
  },
  {
   "cell_type": "code",
   "execution_count": 16,
   "metadata": {},
   "outputs": [
    {
     "name": "stdout",
     "output_type": "stream",
     "text": [
      "(2271, 9) (17396, 9) (5160, 9)\n"
     ]
    }
   ],
   "source": [
    "phospho_common.to_csv(\"bonita_phosphoproteomics.csv\")\n",
    "prot_common.to_csv(\"bonita_proteomics.csv\")\n",
    "transcript_common.to_csv(\"bonita_transcriptomics.csv\")\n",
    "print(phospho_common.shape, transcript_common.shape, prot_common.shape)"
   ]
  },
  {
   "cell_type": "code",
   "execution_count": 17,
   "metadata": {},
   "outputs": [],
   "source": [
    "pd.concat([transcript_common, phospho_common, prot_common], axis = 1).fillna(0).to_csv(\"concatenated_datasets.csv\")"
   ]
  },
  {
   "cell_type": "markdown",
   "metadata": {},
   "source": [
    "# Make figures showing overlap in genes, using filtered datasets"
   ]
  },
  {
   "cell_type": "code",
   "execution_count": 18,
   "metadata": {},
   "outputs": [
    {
     "data": {
      "text/plain": [
       "<Figure size 144x360 with 0 Axes>"
      ]
     },
     "metadata": {},
     "output_type": "display_data"
    },
    {
     "data": {
      "image/png": "[encoded data removed]",
      "text/plain": [
       "<Figure size 448x288 with 4 Axes>"
      ]
     },
     "metadata": {
      "needs_background": "light"
     },
     "output_type": "display_data"
    }
   ],
   "source": [
    "commonGenes = from_contents({\n",
    "    'Proteomics': set(prot_common.index),\n",
    "    'Transcriptomics': set(transcript_common.index),\n",
    "    'Phosphoproteomics': set(phospho_common.index)\n",
    "})\n",
    "commonGenes\n",
    "with plt.style.context('tableau-colorblind10'):\n",
    "    plt.figure(figsize=(2, 5))\n",
    "    plot(commonGenes,\n",
    "         show_counts=True,\n",
    "         min_subset_size=1,\n",
    "         facecolor=\"green\",\n",
    "         orientation='horizontal')\n",
    "    plt.savefig(\"figure1a_filtered.pdf\")\n",
    "    plt.savefig(\"figure1a_filtered.png\", dpi=600)"
   ]
  },
  {
   "cell_type": "code",
   "execution_count": 49,
   "metadata": {},
   "outputs": [
    {
     "name": "stdout",
     "output_type": "stream",
     "text": [
      "(1606, 9) (1606, 9) (1606, 9)\n"
     ]
    }
   ],
   "source": [
    "commonGene = list(\n",
    "    set(\n",
    "        set(prot_common.index) & set(transcript_common.index)\n",
    "        & set(phospho_common.index)))\n",
    "\n",
    "transcript_common = transcript_common.loc[transcript_common.index.isin(\n",
    "    commonGene)]\n",
    "phospho_common = phospho_common.loc[phospho_common.index.isin(commonGene)]\n",
    "prot_common = prot_common.loc[prot_common.index.isin(commonGene)]\n",
    "\n",
    "print(transcript_common.shape, phospho_common.shape, prot_common.shape)"
   ]
  },
  {
   "cell_type": "markdown",
   "metadata": {},
   "source": [
    "# Calculate pairwise correlations between datasets"
   ]
  },
  {
   "cell_type": "code",
   "execution_count": null,
   "metadata": {},
   "outputs": [],
   "source": [
    "temp = transcript_common.reset_index(drop=False).melt(id_vars='Gene')\n",
    "temp['Condition'] = [i[:-2] for i in temp.variable]\n",
    "for i in range(len(temp['Condition'])):\n",
    "    if temp.loc[i, 'Condition'] == 'Ramos_19O2_NoCyclo':\n",
    "        temp.loc[i, 'Condition'] = \"19% O2, CyA-\"\n",
    "    elif temp.loc[i, 'Condition'] == 'Ramos_1O2_NoCyclo':\n",
    "        temp.loc[i, 'Condition'] = \"1% O2, CyA-\"\n",
    "    elif temp.loc[i, 'Condition'] == 'Ramos_1O2_PlusCyclo':\n",
    "        temp.loc[i, 'Condition'] = \"1% O2, CyA+\"\n",
    "a = pd.DataFrame(temp.groupby(['Condition', 'Gene']).median())  #.reset_index()\n",
    "a"
   ]
  },
  {
   "cell_type": "code",
   "execution_count": null,
   "metadata": {},
   "outputs": [],
   "source": [
    "temp2 = temp[['variable', 'Condition']].drop_duplicates().reset_index(drop=True)\n",
    "temp2['O2'] = [i[:-6] for i in temp2.Condition]\n",
    "temp2['CyA'] = [i[-4:] for i in temp2.Condition]\n",
    "for i in set(temp2.Condition):\n",
    "    temp2[i] = np.nan\n",
    "    for j in range(len(temp2)):\n",
    "        if (temp2.loc[j, 'Condition'] == i):\n",
    "            temp2.loc[j, i] = 1\n",
    "        else:\n",
    "            temp2.loc[j, i] = 0\n",
    "temp2[[\"1% O2, CyA+\",\"1% O2, CyA-\",\"19% O2, CyA-\"]].to_csv(\"transcriptomics_conditions.csv\")\n",
    "temp2"
   ]
  },
  {
   "cell_type": "code",
   "execution_count": null,
   "metadata": {},
   "outputs": [],
   "source": [
    "temp2.to_csv(\"transcriptomics_conditions_deseq.csv\", index=False)"
   ]
  },
  {
   "cell_type": "code",
   "execution_count": null,
   "metadata": {},
   "outputs": [],
   "source": [
    "temp = phospho_common.reset_index(drop=False).melt(id_vars='Gene')\n",
    "temp.columns = ['Gene', 'Condition', 'value']\n",
    "for i in range(len(temp['Condition'])):\n",
    "    oldcond = temp.loc[i, 'Condition']\n",
    "    newcond = ''\n",
    "    if conditions.loc[conditions['Column labels - cleaned dataset'] == oldcond,\n",
    "                      \"O2\"].tolist()[0] == \"Low\":\n",
    "        newcond = newcond + \"1% O2, \"\n",
    "    else:\n",
    "        newcond = newcond + \"19% O2, \"\n",
    "    if conditions.loc[conditions['Column labels - cleaned dataset'] == oldcond,\n",
    "                      \"CyA\"].tolist()[0] == \"No\":\n",
    "        newcond = newcond + \"CyA-\"\n",
    "    else:\n",
    "        newcond = newcond + \"CyA+\"\n",
    "    temp.loc[i, 'Condition'] = newcond\n",
    "    temp.loc[i, 'variable'] = oldcond\n",
    "b = pd.DataFrame(temp.groupby(['Condition', 'Gene']).median())  #.reset_index()\n",
    "b"
   ]
  },
  {
   "cell_type": "code",
   "execution_count": null,
   "metadata": {},
   "outputs": [],
   "source": [
    "b"
   ]
  },
  {
   "cell_type": "code",
   "execution_count": null,
   "metadata": {},
   "outputs": [],
   "source": [
    "temp2 = temp[['variable', 'Condition']].drop_duplicates().reset_index(drop=True)\n",
    "temp2['O2'] = [i[:-6] for i in temp2.Condition]\n",
    "temp2['CyA'] = [i[-4:] for i in temp2.Condition]\n",
    "for i in set(temp2.Condition):\n",
    "    temp2[i] = np.nan\n",
    "    for j in range(len(temp2)):\n",
    "        if (temp2.loc[j, 'Condition'] == i):\n",
    "            temp2.loc[j, i] = 1\n",
    "        else:\n",
    "            temp2.loc[j, i] = 0\n",
    "temp2[[\"1% O2, CyA+\",\"1% O2, CyA-\",\"19% O2, CyA-\"]].to_csv(\"phosphoproteomics_conditions.csv\")\n",
    "temp2"
   ]
  },
  {
   "cell_type": "code",
   "execution_count": null,
   "metadata": {},
   "outputs": [],
   "source": [
    "temp = prot_common.reset_index(drop=False).melt(id_vars='Gene')\n",
    "temp['Condition'] = [i[:-2] for i in temp.variable]\n",
    "\n",
    "for i in range(len(temp['Condition'])):\n",
    "    if temp.loc[i, 'Condition'] == 'norm_19':\n",
    "        temp.loc[i, 'Condition'] = \"19% O2, CyA-\"\n",
    "    elif temp.loc[i, 'Condition'] == 'norm_1':\n",
    "        temp.loc[i, 'Condition'] = \"1% O2, CyA-\"\n",
    "    elif temp.loc[i, 'Condition'] == 'norm_1-1ug':\n",
    "        temp.loc[i, 'Condition'] = \"1% O2, CyA+\"\n",
    "\n",
    "c = pd.DataFrame(temp.groupby(['Condition', 'Gene']).median())\n",
    "c"
   ]
  },
  {
   "cell_type": "code",
   "execution_count": null,
   "metadata": {},
   "outputs": [],
   "source": [
    "temp2 = temp[['variable', 'Condition']].drop_duplicates().reset_index(drop=True)\n",
    "temp2['O2'] = [i[:-6] for i in temp2.Condition]\n",
    "temp2['CyA'] = [i[-4:] for i in temp2.Condition]\n",
    "for i in set(temp2.Condition):\n",
    "    temp2[i] = np.nan\n",
    "    for j in range(len(temp2)):\n",
    "        if (temp2.loc[j, 'Condition'] == i):\n",
    "            temp2.loc[j, i] = 1\n",
    "        else:\n",
    "            temp2.loc[j, i] = 0\n",
    "temp2[[\"1% O2, CyA+\",\"1% O2, CyA-\",\"19% O2, CyA-\"]].to_csv(\"proteomics_conditions.csv\", index=False)\n",
    "temp2"
   ]
  },
  {
   "cell_type": "code",
   "execution_count": null,
   "metadata": {},
   "outputs": [],
   "source": [
    "medianDF = pd.DataFrame({\n",
    "    \"Transcriptomics\": a.value,\n",
    "    \"Proteomics\": c.value,\n",
    "    \"Phosphoproteomics\": b.value\n",
    "}).reset_index()\n",
    "medianDF"
   ]
  },
  {
   "cell_type": "code",
   "execution_count": null,
   "metadata": {},
   "outputs": [],
   "source": [
    "g = sns.pairplot(medianDF,\n",
    "                 diag_kind='hist',\n",
    "                 kind='reg',\n",
    "                 plot_kws={'scatter_kws': {\n",
    "                     'alpha': 0.25\n",
    "                 }},\n",
    "                 markers=[\"o\", \"s\", \"D\"],\n",
    "                 corner=False,\n",
    "                 hue='Condition',\n",
    "                 palette='colorblind')\n",
    "g.savefig(\"figure1b.pdf\")\n",
    "g.savefig(\"figure1b.png\", dpi=600)"
   ]
  },
  {
   "cell_type": "code",
   "execution_count": null,
   "metadata": {},
   "outputs": [],
   "source": [
    "a = prot_common.T.reset_index(drop=True).corrwith(\n",
    "    transcript_common.T.reset_index(drop=True), axis=0)\n",
    "sns.histplot(a, color=\"blue\")\n",
    "b = phospho_common.T.reset_index(drop=True).corrwith(\n",
    "    transcript_common.T.reset_index(drop=True), axis=0)\n",
    "sns.histplot(b, color=\"red\")\n",
    "c = phospho_common.T.reset_index(drop=True).corrwith(\n",
    "    prot_common.T.reset_index(drop=True), axis=0)\n",
    "sns.histplot(c, color=\"brown\")"
   ]
  },
  {
   "cell_type": "code",
   "execution_count": null,
   "metadata": {},
   "outputs": [],
   "source": [
    "a = transcript_common.reset_index(drop=False).melt(\n",
    "    id_vars=\"Gene\").sort_values(\"Gene\")\n",
    "b = prot_common.reset_index(drop=False).melt(\n",
    "    id_vars=\"Gene\").sort_values(\"Gene\")\n",
    "c = phospho_common.reset_index(drop=False).melt(\n",
    "    id_vars=\"Gene\").sort_values(\"Gene\")"
   ]
  },
  {
   "cell_type": "code",
   "execution_count": null,
   "metadata": {},
   "outputs": [],
   "source": [
    "from scipy.stats import spearmanr, pearsonr\n",
    "print(spearmanr(a.value, b.value), pearsonr(a.value, b.value))"
   ]
  },
  {
   "cell_type": "code",
   "execution_count": null,
   "metadata": {},
   "outputs": [],
   "source": [
    "print(spearmanr(a.value, c.value), pearsonr(a.value, c.value))"
   ]
  },
  {
   "cell_type": "code",
   "execution_count": null,
   "metadata": {},
   "outputs": [],
   "source": [
    "print(spearmanr(b.value, c.value), pearsonr(b.value, c.value))"
   ]
  },
  {
   "cell_type": "markdown",
   "metadata": {},
   "source": [
    "# Make proteomics coexpression network"
   ]
  },
  {
   "cell_type": "code",
   "execution_count": null,
   "metadata": {},
   "outputs": [],
   "source": [
    "proteomics_coexp = proteomics[set(\n",
    "    prot_common_conditions).intersection(set(proteomics.columns))]\n",
    "proteomics_coexp.set_index(\"Gene\", inplace=True)\n",
    "proteomics_coexp = proteomics_coexp.T\n",
    "proteomics_coexp = proteomics_coexp.corr(method=\"spearman\")\n",
    "proteomics_coexp.head\n",
    "proteomics_coexp.to_csv(\"proteomics_corr.csv\")"
   ]
  },
  {
   "cell_type": "code",
   "execution_count": null,
   "metadata": {},
   "outputs": [],
   "source": [
    "proteomics_coexp = pd.read_csv(\"proteomics_corr.csv\", index_col=0)\n",
    "proteomics_coexp['Gene'] = list(proteomics_coexp.index)\n",
    "proteomics_coexp = proteomics_coexp.melt(id_vars=['Gene']).dropna()\n",
    "proteomics_coexp.value = proteomics_coexp.value.abs()\n",
    "proteomics_coexp = proteomics_coexp[proteomics_coexp.value >= 0.75]\n",
    "proteomics_coexp = proteomics_coexp[proteomics_coexp.value != 1]\n",
    "#proteomics_coexp.head\n",
    "proteomics_net = nx.from_pandas_edgelist(proteomics_coexp,\n",
    "                                         source=\"Gene\",\n",
    "                                         target=\"variable\",\n",
    "                                         edge_attr=\"value\")\n",
    "nx.set_node_attributes(proteomics_net,\n",
    "                       nx.betweenness_centrality(proteomics_net),\n",
    "                       \"prot_betweenness\")\n",
    "#Gcc = sorted(nx.connected_components(proteomics_net), key=len, reverse=True)\n",
    "#proteomics_net = proteomics_net.subgraph(Gcc[0])\n",
    "nx.write_graphml_lxml(proteomics_net, \"proteomics_net.graphml\")\n",
    "len(proteomics_net)\n",
    "proteomics_net = nx.read_graphml(\"proteomics_net.graphml\")\n",
    "len(proteomics_net)"
   ]
  },
  {
   "cell_type": "markdown",
   "metadata": {},
   "source": [
    "# Make transcriptomics coexpression network"
   ]
  },
  {
   "cell_type": "code",
   "execution_count": null,
   "metadata": {},
   "outputs": [],
   "source": [
    "transcriptomics_coexp = transcriptomics[set(\n",
    "    transcript_common_conditions).intersection(set(transcriptomics.columns))]\n",
    "transcriptomics_coexp = transcriptomics_coexp.T\n",
    "transcriptomics_coexp = transcriptomics_coexp.corr(method=\"spearman\")\n",
    "transcriptomics_coexp.head\n",
    "transcriptomics_coexp.to_csv(\"transcriptomics_corr.csv\")"
   ]
  },
  {
   "cell_type": "code",
   "execution_count": null,
   "metadata": {},
   "outputs": [],
   "source": [
    "transcriptomics_coexp = pd.read_csv(\"transcriptomics_corr.csv\", index_col=0)\n",
    "transcriptomics_coexp['Gene'] = list(transcriptomics_coexp.index)\n",
    "transcriptomics_coexp = transcriptomics_coexp.melt(id_vars=['Gene']).dropna()\n",
    "transcriptomics_coexp.value = transcriptomics_coexp.value.abs()\n",
    "transcriptomics_coexp = transcriptomics_coexp[\n",
    "    transcriptomics_coexp.value >= 0.75]\n",
    "transcriptomics_coexp = transcriptomics_coexp[transcriptomics_coexp.value != 1]\n",
    "\n",
    "\n",
    "transcriptomics_net = nx.from_pandas_edgelist(transcriptomics_coexp,\n",
    "                                              source=\"Gene\",\n",
    "                                              target=\"variable\",\n",
    "                                              edge_attr=\"value\")\n",
    "nx.set_node_attributes(transcriptomics_net,\n",
    "                       nx.betweenness_centrality(transcriptomics_net),\n",
    "                       \"trans_betweenness\")\n",
    "#Gcc = sorted(nx.connected_components(transcriptomics_net), key=len, reverse=True)\n",
    "#transcriptomics_net = transcriptomics_net.subgraph(Gcc[0])\n",
    "nx.write_graphml_lxml(transcriptomics_net, \"transcriptomics_net.graphml\")\n",
    "len(transcriptomics_net)"
   ]
  },
  {
   "cell_type": "markdown",
   "metadata": {},
   "source": [
    "# Make phosphoproteomics coexpression network"
   ]
  },
  {
   "cell_type": "code",
   "execution_count": null,
   "metadata": {},
   "outputs": [],
   "source": [
    "phospho_coexp = phosphoproteomics[set(\n",
    "    phospho_common_conditions).intersection(set(phosphoproteomics.columns))]\n",
    "phospho_coexp = phospho_coexp.T\n",
    "phospho_coexp = phospho_coexp.corr(method=\"spearman\")\n",
    "phospho_coexp.head\n",
    "phospho_coexp.to_csv(\"phospho_corr.csv\")"
   ]
  },
  {
   "cell_type": "code",
   "execution_count": null,
   "metadata": {},
   "outputs": [],
   "source": [
    "phospho_coexp = pd.read_csv(\"phospho_corr.csv\", index_col=0)\n",
    "phospho_coexp['Gene'] = list(phospho_coexp.index)\n",
    "phospho_coexp = phospho_coexp.melt(id_vars=['Gene']).dropna()\n",
    "phospho_coexp.value = phospho_coexp.value.abs()\n",
    "phospho_coexp = phospho_coexp[phospho_coexp.value >= 0.75]\n",
    "phospho_coexp = phospho_coexp[phospho_coexp.value != 1]\n",
    "\n",
    "phospho_net = nx.from_pandas_edgelist(phospho_coexp,\n",
    "                                      source=\"Gene\",\n",
    "                                      target=\"variable\",\n",
    "                                      edge_attr=\"value\")\n",
    "nx.set_node_attributes(phospho_net, nx.betweenness_centrality(phospho_net),\n",
    "                       \"phospho_betweenness\")\n",
    "#Gcc = sorted(nx.connected_components(phospho_net), key=len, reverse=True)\n",
    "#phospho_net = phospho_net.subgraph(Gcc[0])\n",
    "nx.write_graphml_lxml(phospho_net, \"phospho_net.graphml\")\n"
   ]
  },
  {
   "cell_type": "markdown",
   "metadata": {},
   "source": [
    "# Find edges overlapping between coexpression networks"
   ]
  },
  {
   "cell_type": "code",
   "execution_count": null,
   "metadata": {},
   "outputs": [],
   "source": [
    "def getOverlapGraph(netList=[], returnGiantComponent=True):\n",
    "    overlapNet = nx.intersection_all(netList)\n",
    "    if returnGiantComponent:\n",
    "        Gcc = sorted(nx.connected_components(overlapNet), key=len, reverse=True)\n",
    "        G0 = overlapNet.subgraph(Gcc[0])\n",
    "        return G0\n",
    "    else:\n",
    "        return overlapNet"
   ]
  },
  {
   "cell_type": "code",
   "execution_count": null,
   "metadata": {},
   "outputs": [],
   "source": [
    "# transcriptomics - proteomics \n",
    "trans_prot = getOverlapGraph(netList=[transcriptomics_net, proteomics_net])\n",
    "print(len(trans_prot))"
   ]
  },
  {
   "cell_type": "code",
   "execution_count": null,
   "metadata": {},
   "outputs": [],
   "source": [
    "# transcriptomics - phosphoproteomics \n",
    "trans_phospho = getOverlapGraph(netList=[transcriptomics_net, phospho_net])\n",
    "print(len(trans_phospho))"
   ]
  },
  {
   "cell_type": "code",
   "execution_count": null,
   "metadata": {},
   "outputs": [],
   "source": [
    "# phosphoproteomics - proteomics\n",
    "prot_phospho = getOverlapGraph(netList=[proteomics_net, phospho_net])\n",
    "print(len(prot_phospho))"
   ]
  },
  {
   "cell_type": "code",
   "execution_count": null,
   "metadata": {},
   "outputs": [],
   "source": [
    "# make consensus network\n",
    "\n",
    "consensus_net = getOverlapGraph(netList=[transcriptomics_net, proteomics_net, phospho_net], returnGiantComponent=False)\n",
    "\n",
    "nx.set_node_attributes(consensus_net, nx.betweenness_centrality(consensus_net), \"consensus_betweenness\")\n",
    "\n",
    "nx.write_graphml_lxml(consensus_net, \"consensus_net.graphml\")\n",
    "\n",
    "consensus_net_giant = getOverlapGraph(netList=[transcriptomics_net, proteomics_net, phospho_net], returnGiantComponent=True)\n",
    "\n",
    "nx.write_graphml_lxml(consensus_net_giant, \"consensus_net_largest_connected_component.graphml\")\n",
    "\n",
    "print(len(consensus_net_giant))"
   ]
  },
  {
   "cell_type": "code",
   "execution_count": null,
   "metadata": {},
   "outputs": [],
   "source": [
    "# make upset plot showing intersections between coexpression network edges\n",
    "\n",
    "commonNodes = from_contents({\n",
    "    'Proteomics': set(proteomics_net.edges),\n",
    "    'Transcriptomics': set(transcriptomics_net.edges),\n",
    "    'Phosphoproteomics': set(phospho_net.edges)\n",
    "})\n",
    "with plt.style.context('tableau-colorblind10'):\n",
    "    plt.figure(figsize=(2, 5))\n",
    "    plot(commonNodes,\n",
    "         show_counts=True,\n",
    "         min_subset_size=1,\n",
    "         facecolor=\"navy\",\n",
    "         orientation='horizontal')\n",
    "    plt.savefig(\"figure2c.pdf\")\n",
    "    plt.savefig(\"figure2c.png\", dpi=600)"
   ]
  },
  {
   "cell_type": "code",
   "execution_count": null,
   "metadata": {},
   "outputs": [],
   "source": [
    "def enrichmentNodes(networkNodes):\n",
    "    consensusNodesEnrich = gp.enrichr(gene_list=list(networkNodes),\n",
    "                                      gene_sets=['KEGG_2021_Human'],\n",
    "                                      organism='Human',\n",
    "                                      cutoff=0.05)\n",
    "    consensusNodesEnrich.results.Genes = [\n",
    "        temp.split(';') for temp in consensusNodesEnrich.results.Genes.tolist()\n",
    "    ]\n",
    "    enrichr_common_nodes = consensusNodesEnrich.results[\n",
    "        consensusNodesEnrich.results['Adjusted P-value'] < 0.01]\n",
    "    enrichr_common_nodes = enrichr_common_nodes.assign(\n",
    "        log10_adjusted_p_value=[(-1) * np.log10(i)\n",
    "                                for i in enrichr_common_nodes['Adjusted P-value']])\n",
    "    return enrichr_common_nodes\n",
    "\n",
    "def makeEnrichBubblePlot(enrichResult):\n",
    "    with plt.style.context('tableau-colorblind10'):\n",
    "        sns.set_context(\n",
    "        \"paper\",\n",
    "        rc={\n",
    "        \"font.size\": 16,\n",
    "        \"axes.labelsize\": 'medium',\n",
    "        'ytick.labelsize': 'medium',\n",
    "        'xtick.labelsize': 'medium',\n",
    "        'axes.titlesize': 'medium',\n",
    "        'legend.fontsize': 'medium',\n",
    "        })\n",
    "        sns.scatterplot(data=enrichResult,\n",
    "                        y=\"Term\",\n",
    "                        x=\"log10_adjusted_p_value\",\n",
    "                        palette=\"Blues\", s = 75)\n",
    "        plt.xlabel(\"-log10 (adjusted p-value)\")\n",
    "        plt.ylabel(\"\")\n",
    "        axes = plt.gca()\n",
    "        axes.yaxis.grid(color='grey',\n",
    "                    linestyle=(0, (5, 10)),\n",
    "                    linewidth=0.5)\n",
    "        axes.xaxis.grid(color='grey',\n",
    "                    linestyle=(0, (5, 10)),\n",
    "                    linewidth=0.5)\n",
    "        plt.xticks(range(0,ceil(max(enrichResult[\"log10_adjusted_p_value\"])+1)))"
   ]
  },
  {
   "cell_type": "code",
   "execution_count": null,
   "metadata": {},
   "outputs": [],
   "source": [
    "# consensus network\n",
    "consensusNodesEnrich = enrichmentNodes(consensus_net_giant.nodes)\n",
    "plt.figure(figsize=(3,4))\n",
    "makeEnrichBubblePlot(consensusNodesEnrich)"
   ]
  },
  {
   "cell_type": "code",
   "execution_count": null,
   "metadata": {},
   "outputs": [],
   "source": [
    "# proteomics only\n",
    "len(set(transcriptomics_net.nodes))# - set(transcriptomics_net.nodes)) #.difference(set(phospho_net.nodes)))\n",
    "#proteomics_net.subgraph(proteomics_net.nodes.in)\n",
    "#proteomicsNodesEnrich = enrichmentNodes(G0.nodes)\n",
    "#plt.figure(figsize=(5,10))\n",
    "#makeEnrichBubblePlot(proteomicsNodesEnrich)"
   ]
  },
  {
   "cell_type": "code",
   "execution_count": null,
   "metadata": {},
   "outputs": [],
   "source": [
    "# transcriptomics only\n",
    "overlapNet = nx.difference(transcriptomics_net, consensus_net.subgraph(transcriptomics_net.nodes))\n",
    "Gcc = sorted(nx.connected_components(overlapNet), key=len, reverse=True)\n",
    "G0 = overlapNet.subgraph(Gcc[0])\n",
    "transcriptomicsNodesEnrich = enrichmentNodes(G0.nodes)\n",
    "plt.figure(figsize=(5,10))\n",
    "makeEnrichBubblePlot(transcriptomicsNodesEnrich)"
   ]
  },
  {
   "cell_type": "code",
   "execution_count": null,
   "metadata": {},
   "outputs": [],
   "source": [
    "# phosphoproteomics only\n",
    "phosphoproteomicsNodesEnrich = enrichmentNodes(set(phospho_net.nodes) - set(consensus_net_giant.nodes))\n",
    "plt.figure(figsize=(3,10))\n",
    "makeEnrichBubblePlot(phosphoproteomicsNodesEnrich)"
   ]
  },
  {
   "cell_type": "code",
   "execution_count": null,
   "metadata": {},
   "outputs": [],
   "source": [
    "len(set(phospho_net.nodes) - set(consensus_net_giant.nodes))\n",
    "len(set(proteomics_net.nodes) - set(consensus_net_giant.nodes))"
   ]
  }
 ],
 "metadata": {
  "kernelspec": {
   "display_name": "Python 3 (anaconda3 2020.07)",
   "language": "python",
   "name": "anaconda3-2020.07"
  },
  "language_info": {
   "codemirror_mode": {
    "name": "ipython",
    "version": 3
   },
   "file_extension": ".py",
   "mimetype": "text/x-python",
   "name": "python",
   "nbconvert_exporter": "python",
   "pygments_lexer": "ipython3",
   "version": "3.8.3"
  }
 },
 "nbformat": 4,
 "nbformat_minor": 2
}
